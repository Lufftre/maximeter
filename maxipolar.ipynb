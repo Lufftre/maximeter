{
 "cells": [
  {
   "cell_type": "code",
   "execution_count": 145,
   "metadata": {},
   "outputs": [],
   "source": [
    "import pandas as pd\r\n",
    "import matplotlib.pyplot as plt\r\n",
    "import numpy as np\r\n",
    "from scipy import interpolate\r\n",
    "import seaborn as sns"
   ]
  },
  {
   "cell_type": "code",
   "execution_count": 198,
   "metadata": {},
   "outputs": [
    {
     "data": {
      "text/html": "<div>\n<style scoped>\n    .dataframe tbody tr th:only-of-type {\n        vertical-align: middle;\n    }\n\n    .dataframe tbody tr th {\n        vertical-align: top;\n    }\n\n    .dataframe thead th {\n        text-align: right;\n    }\n</style>\n<table border=\"1\" class=\"dataframe\">\n  <thead>\n    <tr style=\"text-align: right;\">\n      <th></th>\n      <th>6</th>\n      <th>8</th>\n      <th>10</th>\n      <th>12</th>\n      <th>14</th>\n      <th>16</th>\n      <th>20</th>\n    </tr>\n    <tr>\n      <th>twa/tws</th>\n      <th></th>\n      <th></th>\n      <th></th>\n      <th></th>\n      <th></th>\n      <th></th>\n      <th></th>\n    </tr>\n  </thead>\n  <tbody>\n    <tr>\n      <th>52</th>\n      <td>4.76</td>\n      <td>5.60</td>\n      <td>6.02</td>\n      <td>6.19</td>\n      <td>6.25</td>\n      <td>6.28</td>\n      <td>6.28</td>\n    </tr>\n    <tr>\n      <th>60</th>\n      <td>5.03</td>\n      <td>5.80</td>\n      <td>6.14</td>\n      <td>6.35</td>\n      <td>6.44</td>\n      <td>6.49</td>\n      <td>6.49</td>\n    </tr>\n    <tr>\n      <th>75</th>\n      <td>5.23</td>\n      <td>5.93</td>\n      <td>6.26</td>\n      <td>6.52</td>\n      <td>6.75</td>\n      <td>6.86</td>\n      <td>6.94</td>\n    </tr>\n    <tr>\n      <th>90</th>\n      <td>5.17</td>\n      <td>5.93</td>\n      <td>6.35</td>\n      <td>6.65</td>\n      <td>6.89</td>\n      <td>7.16</td>\n      <td>7.45</td>\n    </tr>\n    <tr>\n      <th>110</th>\n      <td>5.04</td>\n      <td>5.95</td>\n      <td>6.40</td>\n      <td>6.83</td>\n      <td>7.26</td>\n      <td>7.61</td>\n      <td>8.06</td>\n    </tr>\n    <tr>\n      <th>120</th>\n      <td>4.87</td>\n      <td>5.83</td>\n      <td>6.31</td>\n      <td>6.73</td>\n      <td>7.17</td>\n      <td>7.64</td>\n      <td>8.61</td>\n    </tr>\n    <tr>\n      <th>135</th>\n      <td>4.37</td>\n      <td>5.32</td>\n      <td>6.04</td>\n      <td>6.43</td>\n      <td>6.84</td>\n      <td>7.28</td>\n      <td>8.35</td>\n    </tr>\n    <tr>\n      <th>150</th>\n      <td>3.68</td>\n      <td>4.66</td>\n      <td>5.50</td>\n      <td>6.09</td>\n      <td>6.45</td>\n      <td>6.84</td>\n      <td>7.68</td>\n    </tr>\n  </tbody>\n</table>\n</div>",
      "text/plain": "            6     8    10    12    14    16    20\ntwa/tws                                          \n52       4.76  5.60  6.02  6.19  6.25  6.28  6.28\n60       5.03  5.80  6.14  6.35  6.44  6.49  6.49\n75       5.23  5.93  6.26  6.52  6.75  6.86  6.94\n90       5.17  5.93  6.35  6.65  6.89  7.16  7.45\n110      5.04  5.95  6.40  6.83  7.26  7.61  8.06\n120      4.87  5.83  6.31  6.73  7.17  7.64  8.61\n135      4.37  5.32  6.04  6.43  6.84  7.28  8.35\n150      3.68  4.66  5.50  6.09  6.45  6.84  7.68"
     },
     "execution_count": 198,
     "metadata": {},
     "output_type": "execute_result"
    }
   ],
   "source": [
    "df = pd.read_csv('maxipolar.csv', sep=';').drop(0)\r\n",
    "df = df.set_index('twa/tws')\r\n",
    "df"
   ]
  },
  {
   "cell_type": "code",
   "execution_count": 208,
   "metadata": {},
   "outputs": [
    {
     "data": {
      "text/plain": "6.09"
     },
     "execution_count": 208,
     "metadata": {},
     "output_type": "execute_result"
    }
   ],
   "source": [
    "def performance(tws, twa):\r\n",
    "    tws = min(df.columns, key=lambda x: abs(float(x) - tws))\r\n",
    "    twa = min(df.index, key=lambda x: abs(x - twa))\r\n",
    "    return df[str(tws)][twa]\r\n",
    "performance(13.0, 150)"
   ]
  },
  {
   "cell_type": "code",
   "execution_count": 185,
   "metadata": {},
   "outputs": [],
   "source": [
    "# TWA * TWS = KT\r\n",
    "twa = df['twa/tws']\r\n",
    "tws = [float(x) for x in df.columns[1:]]\r\n",
    "sow = df.drop('twa/tws', axis=1)\r\n",
    "SOW = df.drop('twa/tws', axis=1).to_numpy()\r\n",
    "TWA, TWS = np.meshgrid(twa, tws)\r\n",
    "f = interpolate.interp2d(TWA, TWS, SOW, kind='linear')"
   ]
  },
  {
   "cell_type": "code",
   "execution_count": 134,
   "metadata": {},
   "outputs": [],
   "source": [
    "twa2 = np.linspace(0, 180, 60)\r\n",
    "tws2 = np.linspace(6, 20, 14)\r\n",
    "TWA2, TWS2 = np.meshgrid(twa2, tws2)\r\n",
    "SOW2 = f(twa2, tws2)"
   ]
  },
  {
   "cell_type": "code",
   "execution_count": 186,
   "metadata": {},
   "outputs": [
    {
     "data": {
      "image/png": "[encoded data removed]",
      "text/plain": "<Figure size 432x288 with 2 Axes>"
     },
     "metadata": {
      "needs_background": "light"
     },
     "output_type": "display_data"
    }
   ],
   "source": [
    "twa2 = np.linspace(52, 150, 20)\r\n",
    "sow2 = f(twa2, 8)\r\n",
    "\r\n",
    "fig, ax = plt.subplots(1, 2, subplot_kw={'projection': 'polar'})\r\n",
    "ax[0].plot(np.deg2rad(twa2), sow2)\r\n",
    "ax[1].plot(np.deg2rad(twa), sow['8'])\r\n",
    "\r\n",
    "for _ax in ax:\r\n",
    "    _ax.set_theta_direction(-1)\r\n",
    "    _ax.set_theta_zero_location(\"N\")\r\n",
    "    _ax.set_thetamax(180)\r\n",
    "    _ax.set_rmax(7)\r\n",
    "    # _ax.set_rticks([0.5, 1, 1.5, 2])  # Less radial ticks\r\n",
    "    # _ax.set_rlabel_position(-22.5)  # Move radial labels away from plotted line\r\n",
    "    _ax.grid(True)\r\n",
    "\r\n",
    "# ax.set_title(\"A line plot on a polar axis\", va='bottom')\r\n",
    "plt.show()"
   ]
  },
  {
   "cell_type": "code",
   "execution_count": 1,
   "metadata": {},
   "outputs": [
    {
     "ename": "NameError",
     "evalue": "name 'plt' is not defined",
     "output_type": "error",
     "traceback": [
      "\u001b[1;31m---------------------------------------------------------------------------\u001b[0m",
      "\u001b[1;31mNameError\u001b[0m                                 Traceback (most recent call last)",
      "\u001b[1;32m<ipython-input-1-0ca69bc67666>\u001b[0m in \u001b[0;36m<module>\u001b[1;34m\u001b[0m\n\u001b[1;32m----> 1\u001b[1;33m \u001b[0mfig\u001b[0m \u001b[1;33m=\u001b[0m \u001b[0mplt\u001b[0m\u001b[1;33m.\u001b[0m\u001b[0mfigure\u001b[0m\u001b[1;33m(\u001b[0m\u001b[1;33m)\u001b[0m\u001b[1;33m\u001b[0m\u001b[1;33m\u001b[0m\u001b[0m\n\u001b[0m\u001b[0;32m      2\u001b[0m \u001b[0max\u001b[0m \u001b[1;33m=\u001b[0m \u001b[0mfig\u001b[0m\u001b[1;33m.\u001b[0m\u001b[0msubplots\u001b[0m\u001b[1;33m(\u001b[0m\u001b[1;36m1\u001b[0m\u001b[1;33m,\u001b[0m\u001b[1;36m2\u001b[0m\u001b[1;33m,\u001b[0m \u001b[0msubplot_kw\u001b[0m\u001b[1;33m=\u001b[0m\u001b[0mdict\u001b[0m\u001b[1;33m(\u001b[0m\u001b[0mprojection\u001b[0m\u001b[1;33m=\u001b[0m\u001b[1;34m\"polar\"\u001b[0m\u001b[1;33m)\u001b[0m\u001b[1;33m)\u001b[0m\u001b[1;33m\u001b[0m\u001b[1;33m\u001b[0m\u001b[0m\n\u001b[0;32m      3\u001b[0m \u001b[1;32mfor\u001b[0m \u001b[0m_ax\u001b[0m \u001b[1;32min\u001b[0m \u001b[0max\u001b[0m\u001b[1;33m:\u001b[0m\u001b[1;33m\u001b[0m\u001b[1;33m\u001b[0m\u001b[0m\n\u001b[0;32m      4\u001b[0m     \u001b[0m_ax\u001b[0m\u001b[1;33m.\u001b[0m\u001b[0mset_thetamin\u001b[0m\u001b[1;33m(\u001b[0m\u001b[1;36m0\u001b[0m\u001b[1;33m)\u001b[0m\u001b[1;33m\u001b[0m\u001b[1;33m\u001b[0m\u001b[0m\n\u001b[0;32m      5\u001b[0m     \u001b[0m_ax\u001b[0m\u001b[1;33m.\u001b[0m\u001b[0mset_thetamax\u001b[0m\u001b[1;33m(\u001b[0m\u001b[1;36m180\u001b[0m\u001b[1;33m)\u001b[0m\u001b[1;33m\u001b[0m\u001b[1;33m\u001b[0m\u001b[0m\n",
      "\u001b[1;31mNameError\u001b[0m: name 'plt' is not defined"
     ]
    }
   ],
   "source": [
    "fig = plt.figure()\r\n",
    "ax = fig.subplots(1,2, subplot_kw=dict(projection=\"polar\"))\r\n",
    "for _ax in ax:\r\n",
    "    _ax.set_thetamin(0)\r\n",
    "    _ax.set_thetamax(180)\r\n",
    "ax[0].pcolormesh(TWA, SOW.T, TWS,)\r\n",
    "ax[1].pcolormesh(TWA2, SOW2, TWS2)\r\n",
    "plt.show()"
   ]
  },
  {
   "cell_type": "code",
   "execution_count": 4,
   "metadata": {},
   "outputs": [
    {
     "name": "stdout",
     "output_type": "stream",
     "text": [
      "[268. 357.]\n"
     ]
    }
   ],
   "source": [
    "from scipy.interpolate import RegularGridInterpolator\r\n",
    "from numpy import linspace, zeros, array\r\n",
    "x = linspace(1,4,11)\r\n",
    "y = linspace(4,7,22)\r\n",
    "z = linspace(7,9,33)\r\n",
    "V = zeros((11,22,33))\r\n",
    "for i in range(11):\r\n",
    "    for j in range(22):\r\n",
    "        for k in range(33):\r\n",
    "            V[i,j,k] = 100*x[i] + 10*y[j] + z[k]\r\n",
    "fn = RegularGridInterpolator((x,y,z), V)\r\n",
    "pts = array([[2,6,8],[3,5,7]])\r\n",
    "print(fn(pts))"
   ]
  }
 ],
 "metadata": {
  "kernelspec": {
   "display_name": "Python 3.8.4 32-bit",
   "name": "python384jvsc74a57bd07a542ca580817fc4dd55327026e074e2fa0cd470fc5dee9350c2d8b13822db8d"
  },
  "language_info": {
   "codemirror_mode": {
    "name": "ipython",
    "version": 3
   },
   "file_extension": ".py",
   "mimetype": "text/x-python",
   "name": "python",
   "nbconvert_exporter": "python",
   "pygments_lexer": "ipython3",
   "version": "3.8.4"
  },
  "metadata": {
   "interpreter": {
    "hash": "7a542ca580817fc4dd55327026e074e2fa0cd470fc5dee9350c2d8b13822db8d"
   }
  },
  "orig_nbformat": 2
 },
 "nbformat": 4,
 "nbformat_minor": 2
}